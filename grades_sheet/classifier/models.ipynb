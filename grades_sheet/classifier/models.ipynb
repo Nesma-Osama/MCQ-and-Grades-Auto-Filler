{
 "cells": [
  {
   "cell_type": "code",
   "execution_count": 45,
   "id": "7a300c39-4ea1-4774-a80b-73e37ae1eedb",
   "metadata": {},
   "outputs": [],
   "source": [
    "import os\n",
    "import cv2\n",
    "import numpy as np\n",
    "from skimage.feature import hog\n",
    "from skimage import exposure\n",
    "from sklearn.model_selection import train_test_split\n",
    "from sklearn.neighbors import KNeighborsClassifier\n",
    "from sklearn import metrics\n",
    "import joblib\n",
    "import random\n",
    "from sklearn.neighbors import KNeighborsClassifier\n",
    "from sklearn.neural_network import MLPClassifier  # MLP is an NN\n",
    "from sklearn import svm\n",
    "#TODO:\n",
    "#test prediciton"
   ]
  },
  {
   "cell_type": "code",
   "execution_count": 42,
   "id": "827cba19-dd21-4a00-b3f3-ea67dac248da",
   "metadata": {},
   "outputs": [],
   "source": [
    "target_img_size = (32, 32)\n",
    "random_seed = 42  \n",
    "random.seed(random_seed)\n",
    "np.random.seed(random_seed)\n",
    "\n",
    "def extract_hog_features(img):\n",
    "    img = cv2.resize(img, dsize=target_img_size)\n",
    "    win_size = (32, 32)\n",
    "    cell_size = (4, 4)\n",
    "    block_size_in_cells = (2, 2)\n",
    "    block_size = (block_size_in_cells[1] * cell_size[1], block_size_in_cells[0] * cell_size[0])\n",
    "    block_stride = (cell_size[1], cell_size[0])\n",
    "    nbins = 9  # Number of orientation bins\n",
    "    hog = cv2.HOGDescriptor(win_size, block_size, block_stride, cell_size, nbins)\n",
    "    h = hog.compute(img)\n",
    "    return h.flatten()\n",
    "\n",
    "# Function to load images and labels from the dataset\n",
    "def load_dataset_digits(root_folder):\n",
    "    features = []\n",
    "    labels = []\n",
    "    for digit in range(10):\n",
    "        digit_folder = os.path.join(root_folder, str(digit))\n",
    "        for filename in os.listdir(digit_folder):\n",
    "            if filename.endswith(\".jpg\"):\n",
    "                img_path = os.path.join(digit_folder, filename)\n",
    "                img = cv2.imread(img_path, 0) \n",
    "                features.append(extract_hog_features(img))\n",
    "                labels.append(digit)\n",
    "    return np.array(features), np.array(labels)\n",
    "def load_dataset_symbols(root_folder):\n",
    "    features = []\n",
    "    labels = []\n",
    "    label_names = []  # To store the label names corresponding to each label\n",
    "\n",
    "    label_index = 0\n",
    "    for label_name in os.listdir(root_folder):\n",
    "        label_folder = os.path.join(root_folder, label_name)\n",
    "        if os.path.isdir(label_folder):\n",
    "            for filename in os.listdir(label_folder):\n",
    "                if filename.endswith(\".jpg\"):\n",
    "                    img_path = os.path.join(label_folder, filename)\n",
    "                    img = cv2.imread(img_path, 0)\n",
    "                    features.append(extract_hog_features(img))\n",
    "                    labels.append(label_index)\n",
    "                    label_names.append(label_name)\n",
    "            label_index += 1\n",
    "\n",
    "    return np.array(features), np.array(labels), label_names\n",
    "classifiers = {\n",
    "    'SVM': svm.LinearSVC(random_state=random_seed),\n",
    "    # 'KNN': KNeighborsClassifier(n_neighbors=7),\n",
    "    # 'NN': MLPClassifier(solver='sgd', random_state=random_seed, hidden_layer_sizes=(500,), max_iter=20, verbose=1)\n",
    "}"
   ]
  },
  {
   "cell_type": "code",
   "execution_count": 43,
   "id": "c81aae56-7000-4344-85f2-1c5d3eb19413",
   "metadata": {},
   "outputs": [
    {
     "name": "stdout",
     "output_type": "stream",
     "text": [
      "SVM accuracy: 90.54054054054053 %\n",
      "Model saved\n"
     ]
    }
   ],
   "source": [
    "# train svm model for digit detection\n",
    "dataset_root_digits = \"./dataset/digits\"\n",
    "features, labels = load_dataset_digits(dataset_root_digits)\n",
    "train_features, test_features, train_labels, test_labels = train_test_split(\n",
    "    features, labels, test_size=0.2, random_state=random_seed)\n",
    "for model_name, model in classifiers.items():\n",
    "    model.fit(train_features, train_labels)\n",
    "    accuracy = model.score(test_features, test_labels)\n",
    "    print(model_name, 'accuracy:', accuracy*100, '%')\n",
    "    model_filename = \"digits_model.joblib\"\n",
    "    joblib.dump(model, model_filename)\n",
    "    print(\"Model saved\")\n"
   ]
  },
  {
   "cell_type": "code",
   "execution_count": 44,
   "id": "9042f264-3fc8-4a6a-9fe1-4dda89a29425",
   "metadata": {},
   "outputs": [
    {
     "name": "stdout",
     "output_type": "stream",
     "text": [
      "SVM accuracy: 98.05825242718447 %\n",
      "Model saved\n"
     ]
    }
   ],
   "source": [
    "# train svm model for symbol detection\n",
    "\n",
    "dataset_root_symbols = \"./dataset/symbols\"\n",
    "features, labels, label_names = load_dataset_symbols(dataset_root_symbols)\n",
    "train_features, test_features, train_labels, test_labels = train_test_split(\n",
    "    features, label_names, test_size=0.2, random_state=random_seed)\n",
    "\n",
    "for model_name, model in classifiers.items():\n",
    "    model.fit(train_features, train_labels)\n",
    "    accuracy = model.score(test_features, test_labels)\n",
    "    print(model_name, 'accuracy:', accuracy*100, '%')\n",
    "    model_filename = \"symbols_model.joblib\"\n",
    "    joblib.dump(model, model_filename)\n",
    "    print(\"Model saved\")\n",
    "\n"
   ]
  }
 ],
 "metadata": {
  "kernelspec": {
   "display_name": "Python 3 (ipykernel)",
   "language": "python",
   "name": "python3"
  },
  "language_info": {
   "codemirror_mode": {
    "name": "ipython",
    "version": 3
   },
   "file_extension": ".py",
   "mimetype": "text/x-python",
   "name": "python",
   "nbconvert_exporter": "python",
   "pygments_lexer": "ipython3",
   "version": "3.9.20"
  },
  "widgets": {
   "application/vnd.jupyter.widget-state+json": {
    "state": {},
    "version_major": 2,
    "version_minor": 0
   }
  }
 },
 "nbformat": 4,
 "nbformat_minor": 5
}
